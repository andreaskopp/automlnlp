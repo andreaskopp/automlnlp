{
 "cells": [
  {
   "cell_type": "markdown",
   "metadata": {},
   "source": [
    "Copyright (c) Microsoft Corporation. All rights reserved.\n",
    "\n",
    "Licensed under the MIT License."
   ]
  },
  {
   "cell_type": "markdown",
   "metadata": {},
   "source": [
    "![Impressions](https://PixelServer20190423114238.azurewebsites.net/api/impressions/MachineLearningNotebooks/how-to-use-azureml/automated-machine-learning/classification-text-dnn/auto-ml-classification-text-dnn.png)"
   ]
  },
  {
   "cell_type": "markdown",
   "metadata": {},
   "source": [
    "# Automated Machine Learning\n",
    "_**Multiclass Text Classification Using AutoML NLP**_\n",
    "\n",
    "## Contents\n",
    "1. [Introduction](#Introduction)\n",
    "1. [Setup](#Setup)\n",
    "1. [Data](#Data)\n",
    "1. [Train](#Train)\n",
    "1. [Inference](#Inference)"
   ]
  },
  {
   "cell_type": "markdown",
   "metadata": {},
   "source": [
    "## Introduction\n",
    "This notebook demonstrates classification with text data using AutoML NLP.\n",
    "\n",
    "AutoML highlights here include using end to end deep learning for NLP tasks like multiclass text classification.\n",
    "\n",
    "Make sure you have executed the [configuration](../../../configuration.ipynb) before running this notebook.\n",
    "\n",
    "Notebook synopsis:\n",
    "\n",
    "1. Creating an Experiment in an existing Workspace\n",
    "2. Configuration and remote run of AutoML for a multiclass text dataset from scikit-learn, [20 Newsgroups dataset](https://scikit-learn.org/0.19/datasets/twenty_newsgroups.html)\n",
    "3. Evaluating the trained model on a test set"
   ]
  },
  {
   "cell_type": "markdown",
   "metadata": {},
   "source": [
    "## Setup"
   ]
  },
  {
   "cell_type": "code",
   "execution_count": 6,
   "metadata": {},
   "outputs": [],
   "source": [
    "# !pip install ipywidgets"
   ]
  },
  {
   "cell_type": "code",
   "execution_count": 1,
   "metadata": {
    "gather": {
     "logged": 1633480011130
    }
   },
   "outputs": [],
   "source": [
    "import logging\n",
    "import os\n",
    "\n",
    "import pandas as pd\n",
    "import numpy as np\n",
    "\n",
    "import azureml.core\n",
    "from azureml.core.experiment import Experiment\n",
    "from azureml.core.workspace import Workspace\n",
    "from azureml.core.dataset import Dataset\n",
    "from azureml.core.compute import AmlCompute\n",
    "from azureml.core.compute import ComputeTarget\n",
    "from azureml.core.run import Run\n",
    "from azureml.train.automl import AutoMLConfig\n",
    "from azureml.train.automl.automlnlpconfig import AutoNLPConfig\n",
    "from sklearn.datasets import fetch_20newsgroups\n",
    "from sklearn.model_selection import train_test_split\n",
    "\n",
    "import re"
   ]
  },
  {
   "cell_type": "markdown",
   "metadata": {},
   "source": [
    "This sample notebook may use features that are not available in previous versions of the Azure ML SDK."
   ]
  },
  {
   "cell_type": "code",
   "execution_count": 3,
   "metadata": {
    "gather": {
     "logged": 1633480011411
    }
   },
   "outputs": [
    {
     "name": "stdout",
     "output_type": "stream",
     "text": [
      "This notebook was created using version 1.39.0 of the Azure ML SDK\n",
      "You are currently using version 0.1.0.66679059 of the Azure ML SDK\n"
     ]
    }
   ],
   "source": [
    "print(\"This notebook was created using version 1.39.0 of the Azure ML SDK\")\n",
    "print(\"You are currently using version\", azureml.core.VERSION, \"of the Azure ML SDK\")"
   ]
  },
  {
   "cell_type": "markdown",
   "metadata": {},
   "source": [
    "As part of the setup you have already created a <b>Workspace</b>. To run AutoML, you also need to create an <b>Experiment</b>. An Experiment corresponds to a prediction problem you are trying to solve, while a Run corresponds to a specific approach to the problem."
   ]
  },
  {
   "cell_type": "code",
   "execution_count": 3,
   "metadata": {
    "gather": {
     "logged": 1633480014618
    }
   },
   "outputs": [
    {
     "data": {
      "text/html": [
       "<div>\n",
       "<style scoped>\n",
       "    .dataframe tbody tr th:only-of-type {\n",
       "        vertical-align: middle;\n",
       "    }\n",
       "\n",
       "    .dataframe tbody tr th {\n",
       "        vertical-align: top;\n",
       "    }\n",
       "\n",
       "    .dataframe thead th {\n",
       "        text-align: right;\n",
       "    }\n",
       "</style>\n",
       "<table border=\"1\" class=\"dataframe\">\n",
       "  <thead>\n",
       "    <tr style=\"text-align: right;\">\n",
       "      <th></th>\n",
       "      <th></th>\n",
       "    </tr>\n",
       "  </thead>\n",
       "  <tbody>\n",
       "    <tr>\n",
       "      <th>Subscription ID</th>\n",
       "      <td>2dbd7833-129e-4a48-b976-e6dd28a92c29</td>\n",
       "    </tr>\n",
       "    <tr>\n",
       "      <th>Workspace Name</th>\n",
       "      <td>sodexo-nlp</td>\n",
       "    </tr>\n",
       "    <tr>\n",
       "      <th>Resource Group</th>\n",
       "      <td>sodexo-nlp</td>\n",
       "    </tr>\n",
       "    <tr>\n",
       "      <th>Location</th>\n",
       "      <td>westeurope</td>\n",
       "    </tr>\n",
       "    <tr>\n",
       "      <th>Experiment Name</th>\n",
       "      <td>automl-nlp-text-multiclass-smartConcat</td>\n",
       "    </tr>\n",
       "  </tbody>\n",
       "</table>\n",
       "</div>"
      ],
      "text/plain": [
       "                                                       \n",
       "Subscription ID    2dbd7833-129e-4a48-b976-e6dd28a92c29\n",
       "Workspace Name                               sodexo-nlp\n",
       "Resource Group                               sodexo-nlp\n",
       "Location                                     westeurope\n",
       "Experiment Name  automl-nlp-text-multiclass-smartConcat"
      ]
     },
     "execution_count": 3,
     "metadata": {},
     "output_type": "execute_result"
    }
   ],
   "source": [
    "ws = Workspace.from_config()\n",
    "\n",
    "# Choose an experiment name.\n",
    "experiment_name = \"automl-nlp-text-multiclass-smartConcat\"\n",
    "\n",
    "experiment = Experiment(ws, experiment_name)\n",
    "\n",
    "output = {}\n",
    "output[\"Subscription ID\"] = ws.subscription_id\n",
    "output[\"Workspace Name\"] = ws.name\n",
    "output[\"Resource Group\"] = ws.resource_group\n",
    "output[\"Location\"] = ws.location\n",
    "output[\"Experiment Name\"] = experiment.name\n",
    "pd.set_option(\"display.max_colwidth\", None)\n",
    "outputDf = pd.DataFrame(data=output, index=[\"\"])\n",
    "outputDf.T"
   ]
  },
  {
   "cell_type": "markdown",
   "metadata": {},
   "source": [
    "## Set up a compute cluster\n",
    "This section uses a user-provided compute cluster (named \"dist-compute\" in this example). If a cluster with this name does not exist in the user's workspace, the below code will create a new cluster. You can choose the parameters of the cluster as mentioned in the comments."
   ]
  },
  {
   "cell_type": "code",
   "execution_count": 10,
   "metadata": {
    "gather": {
     "logged": 1633480040093
    }
   },
   "outputs": [
    {
     "name": "stdout",
     "output_type": "stream",
     "text": [
      "Found existing cluster, use it.\n",
      "Succeeded\n",
      "AmlCompute wait for completion finished\n",
      "\n",
      "Minimum number of nodes requested have been provisioned\n"
     ]
    }
   ],
   "source": [
    "from azureml.core.compute import ComputeTarget, AmlCompute\n",
    "from azureml.core.compute_target import ComputeTargetException\n",
    "\n",
    "num_nodes = 1\n",
    "\n",
    "# Choose a name for your cluster.\n",
    "amlcompute_cluster_name = \"gpu-cluster\"\n",
    "\n",
    "# Verify that cluster does not exist already\n",
    "try:\n",
    "    compute_target = ComputeTarget(workspace=ws, name=amlcompute_cluster_name)\n",
    "    print(\"Found existing cluster, use it.\")\n",
    "except ComputeTargetException:\n",
    "    compute_config = AmlCompute.provisioning_configuration(\n",
    "        vm_size=\"STANDARD_NC6\", max_nodes=num_nodes  # use GPU Nodes\n",
    "    )\n",
    "    compute_target = ComputeTarget.create(ws, amlcompute_cluster_name, compute_config)\n",
    "\n",
    "compute_target.wait_for_completion(show_output=True)"
   ]
  },
  {
   "cell_type": "code",
   "execution_count": 11,
   "metadata": {},
   "outputs": [
    {
     "data": {
      "text/plain": [
       "AmlCompute(workspace=Workspace.create(name='sodexo-nlp', subscription_id='2dbd7833-129e-4a48-b976-e6dd28a92c29', resource_group='sodexo-nlp'), name=gpu-cluster, id=/subscriptions/2dbd7833-129e-4a48-b976-e6dd28a92c29/resourceGroups/sodexo-nlp/providers/Microsoft.MachineLearningServices/workspaces/sodexo-nlp/computes/gpu-cluster, type=AmlCompute, provisioning_state=Succeeded, location=westeurope, tags={})"
      ]
     },
     "execution_count": 11,
     "metadata": {},
     "output_type": "execute_result"
    }
   ],
   "source": [
    "compute_target"
   ]
  },
  {
   "cell_type": "markdown",
   "metadata": {},
   "source": [
    "## Registering Environment Using Build Index"
   ]
  },
  {
   "cell_type": "code",
   "execution_count": 8,
   "metadata": {},
   "outputs": [
    {
     "name": "stderr",
     "output_type": "stream",
     "text": [
      "Environment version is set. Attempting to register desired version. To auto-version, reset version to None.\n"
     ]
    },
    {
     "data": {
      "text/plain": [
       "{\n",
       "    \"databricks\": {\n",
       "        \"eggLibraries\": [],\n",
       "        \"jarLibraries\": [],\n",
       "        \"mavenLibraries\": [],\n",
       "        \"pypiLibraries\": [],\n",
       "        \"rcranLibraries\": []\n",
       "    },\n",
       "    \"docker\": {\n",
       "        \"arguments\": [],\n",
       "        \"baseDockerfile\": null,\n",
       "        \"baseImage\": \"mcr.microsoft.com/azureml/openmpi4.1.0-cuda11.0.3-cudnn8-ubuntu18.04\",\n",
       "        \"baseImageRegistry\": null,\n",
       "        \"enabled\": true,\n",
       "        \"platform\": {\n",
       "            \"architecture\": \"amd64\",\n",
       "            \"os\": \"Linux\"\n",
       "        },\n",
       "        \"sharedVolumes\": true,\n",
       "        \"shmSize\": \"16g\"\n",
       "    },\n",
       "    \"environmentVariables\": {},\n",
       "    \"inferencingStackVersion\": null,\n",
       "    \"name\": \"AutoML-DNN-Text-GPU-Candidate\",\n",
       "    \"python\": {\n",
       "        \"baseCondaEnvironment\": null,\n",
       "        \"condaDependencies\": {\n",
       "            \"dependencies\": [\n",
       "                \"python=3.7\",\n",
       "                {\n",
       "                    \"pip\": [\n",
       "                        \"--extra-index-url https://azuremlsdktestpypi.azureedge.net/automl-nlp-tests/66679059\",\n",
       "                        \"azureml-core==0.1.0.66679059\",\n",
       "                        \"azureml-automl-core==0.1.0.66679059\",\n",
       "                        \"azureml-automl-dnn-nlp==0.1.0.66679059\",\n",
       "                        \"azureml-automl-runtime==0.1.0.66679059\",\n",
       "                        \"azureml-train-automl-client==0.1.0.66679059\",\n",
       "                        \"azureml-train-automl-runtime==0.1.0.66679059\",\n",
       "                        \"numpy\",\n",
       "                        \"pandas\",\n",
       "                        \"seqeval==1.2.2\",\n",
       "                        \"scikit-learn\",\n",
       "                        \"torch==1.7.1\",\n",
       "                        \"transformers==4.5.1\"\n",
       "                    ]\n",
       "                }\n",
       "            ],\n",
       "            \"name\": \"azureml_011170106d974219a029b2e2c5b87e9d\"\n",
       "        },\n",
       "        \"condaDependenciesFile\": null,\n",
       "        \"interpreterPath\": \"python\",\n",
       "        \"userManagedDependencies\": false\n",
       "    },\n",
       "    \"r\": null,\n",
       "    \"spark\": {\n",
       "        \"packages\": [],\n",
       "        \"precachePackages\": true,\n",
       "        \"repositories\": []\n",
       "    },\n",
       "    \"version\": \"null\"\n",
       "}"
      ]
     },
     "execution_count": 8,
     "metadata": {},
     "output_type": "execute_result"
    }
   ],
   "source": [
    "import json\n",
    "from azureml.core.environment import Environment\n",
    "envdef_file_name = './envdef.json'\n",
    "with open(envdef_file_name) as f:\n",
    "    envdef = json.load(f)\n",
    "\n",
    "# Register the environment in the workspace in centraluseuap\n",
    "env = Environment._deserialize_and_add_to_object(envdef)\n",
    "\n",
    "env.name = \"AutoML-DNN-Text-GPU-Candidate\"\n",
    "env.register(workspace = ws)"
   ]
  },
  {
   "cell_type": "code",
   "execution_count": 9,
   "metadata": {},
   "outputs": [
    {
     "data": {
      "text/plain": [
       "Workspace.create(name='sodexo-nlp', subscription_id='2dbd7833-129e-4a48-b976-e6dd28a92c29', resource_group='sodexo-nlp')"
      ]
     },
     "execution_count": 9,
     "metadata": {},
     "output_type": "execute_result"
    }
   ],
   "source": [
    "ws"
   ]
  },
  {
   "cell_type": "markdown",
   "metadata": {},
   "source": [
    "# Data"
   ]
  },
  {
   "cell_type": "code",
   "execution_count": 22,
   "metadata": {},
   "outputs": [],
   "source": [
    "sent_rel_df = pd.read_csv('./andreas-labelled-raw.csv')"
   ]
  },
  {
   "cell_type": "code",
   "execution_count": 23,
   "metadata": {},
   "outputs": [],
   "source": [
    "# get unique list of labels and drop entries with multiple labels in one line (separated by comma)\n",
    "labels = list(pd.unique(sent_rel_df['Label']))\n",
    "labels = list(set([element for element in labels if ',' not in element]))\n",
    "\n",
    "# combine 'good food quality' and 'good taste' to a single label 'good quality or taste'\n",
    "gf = 'Good food quality'\n",
    "gt = 'Good taste'\n",
    "gqt = 'Good quality or taste'\n",
    "\n",
    "labels.remove(gf)\n",
    "labels = [gqt if item == gt else item for item in labels]\n",
    "\n",
    "# build dict with label names according to the naming conventions of AutoML for NLP\n",
    "replace_values = dict((label, '') for label in labels)\n",
    "\n",
    "for key, value in replace_values.items():\n",
    "    new_value = key.lower().replace(' ', '_')\n",
    "    replace_values[key] = new_value"
   ]
  },
  {
   "cell_type": "code",
   "execution_count": 24,
   "metadata": {},
   "outputs": [],
   "source": [
    "def adjust_labels(input):\n",
    "    input_list = input.split(',')\n",
    "\n",
    "    # combine 'good food quality' and 'good taste' to a single label 'good quality or taste'\n",
    "    if gf in input_list or gt in input_list:\n",
    "        input_list.append(gqt)\n",
    "        if gf in input_list:\n",
    "            input_list.remove(gf)\n",
    "        if gt in input_list:\n",
    "            input_list.remove(gt)\n",
    "\n",
    "    # rename labels according to AutoML for NLP convention\n",
    "    shortnames = [replace_values[item] for item in input_list]\n",
    "    \n",
    "    # add double quotes (chr 34) to the whole list and convert to string\n",
    "    result = str(shortnames)\n",
    "    \n",
    "    return result\n",
    "\n",
    "sent_rel_df['multilabel'] = sent_rel_df['Label'].apply(adjust_labels)"
   ]
  },
  {
   "cell_type": "code",
   "execution_count": 25,
   "metadata": {},
   "outputs": [],
   "source": [
    "# remove special characters from comments\n",
    "def remove_special_chars(text):\n",
    "    regex = '[^0-9a-zA-Z$£!.,:;/& ]+'\n",
    "    result = re.sub(regex, '', text)\n",
    "    return result\n",
    "\n",
    "# remove_special_chars('a£b c$def!')\n",
    "\n",
    "sent_rel_df['comments'] = sent_rel_df['comments'].apply(remove_special_chars)\n"
   ]
  },
  {
   "cell_type": "code",
   "execution_count": 26,
   "metadata": {},
   "outputs": [],
   "source": [
    "# Generate train and validation splits\n",
    "cols_of_interest = ['comments', 'multilabel']\n",
    "\n",
    "# train_df, val_df = train_test_split(sentiment_df[cols_of_interest], test_size=0.2, stratify=sentiment_df['sentiment'], random_state=123)\n",
    "train_df, val_df = train_test_split(sent_rel_df[cols_of_interest], test_size=0.2, random_state=123)"
   ]
  },
  {
   "cell_type": "code",
   "execution_count": 27,
   "metadata": {},
   "outputs": [
    {
     "data": {
      "text/html": [
       "<div>\n",
       "<style scoped>\n",
       "    .dataframe tbody tr th:only-of-type {\n",
       "        vertical-align: middle;\n",
       "    }\n",
       "\n",
       "    .dataframe tbody tr th {\n",
       "        vertical-align: top;\n",
       "    }\n",
       "\n",
       "    .dataframe thead th {\n",
       "        text-align: right;\n",
       "    }\n",
       "</style>\n",
       "<table border=\"1\" class=\"dataframe\">\n",
       "  <thead>\n",
       "    <tr style=\"text-align: right;\">\n",
       "      <th></th>\n",
       "      <th>comments</th>\n",
       "      <th>multilabel</th>\n",
       "    </tr>\n",
       "  </thead>\n",
       "  <tbody>\n",
       "    <tr>\n",
       "      <th>4390</th>\n",
       "      <td>Bread was chewy on the sandwich and soup was watery and lacked flavor.</td>\n",
       "      <td>['bad_quality_or_taste']</td>\n",
       "    </tr>\n",
       "    <tr>\n",
       "      <th>3168</th>\n",
       "      <td>Amazing coffee and service.</td>\n",
       "      <td>['good_services', 'good_quality_or_taste']</td>\n",
       "    </tr>\n",
       "    <tr>\n",
       "      <th>1038</th>\n",
       "      <td>Portion was about half the size of the previous orders</td>\n",
       "      <td>['portion_too_small']</td>\n",
       "    </tr>\n",
       "    <tr>\n",
       "      <th>1673</th>\n",
       "      <td>It&amp;8217;d be nice ito have staff wearing masks that are preparing and serving food.</td>\n",
       "      <td>['bad_service', 'global_negative_feedbacks']</td>\n",
       "    </tr>\n",
       "    <tr>\n",
       "      <th>2806</th>\n",
       "      <td>It was great</td>\n",
       "      <td>['global_positive_feedbacks']</td>\n",
       "    </tr>\n",
       "    <tr>\n",
       "      <th>2778</th>\n",
       "      <td>Outstanding barista service from Callum again! :</td>\n",
       "      <td>['good_services']</td>\n",
       "    </tr>\n",
       "    <tr>\n",
       "      <th>1954</th>\n",
       "      <td>Oatmeal was watery; plastic spoons too small to hold in hand and scoop up oatmeal.</td>\n",
       "      <td>['bad_quality_or_taste', 'global_negative_feedbacks']</td>\n",
       "    </tr>\n",
       "    <tr>\n",
       "      <th>3918</th>\n",
       "      <td>Loose coffee grounds ruined both drinks</td>\n",
       "      <td>['bad_quality_or_taste']</td>\n",
       "    </tr>\n",
       "    <tr>\n",
       "      <th>3075</th>\n",
       "      <td>OMG these tacos are so good!</td>\n",
       "      <td>['good_quality_or_taste']</td>\n",
       "    </tr>\n",
       "    <tr>\n",
       "      <th>1747</th>\n",
       "      <td>Hi, my order was not delivered as the team said there were not salads and it was a system fault. So a refund of this order should be donde to my bank account. Many thanks.</td>\n",
       "      <td>['product_not_available', 'wrong_or_missing_order']</td>\n",
       "    </tr>\n",
       "  </tbody>\n",
       "</table>\n",
       "</div>"
      ],
      "text/plain": [
       "                                                                                                                                                                         comments  \\\n",
       "4390                                                                                                       Bread was chewy on the sandwich and soup was watery and lacked flavor.   \n",
       "3168                                                                                                                                                  Amazing coffee and service.   \n",
       "1038                                                                                                                       Portion was about half the size of the previous orders   \n",
       "1673                                                                                          It&8217;d be nice ito have staff wearing masks that are preparing and serving food.   \n",
       "2806                                                                                                                                                                 It was great   \n",
       "2778                                                                                                                             Outstanding barista service from Callum again! :   \n",
       "1954                                                                                           Oatmeal was watery; plastic spoons too small to hold in hand and scoop up oatmeal.   \n",
       "3918                                                                                                                                      Loose coffee grounds ruined both drinks   \n",
       "3075                                                                                                                                                 OMG these tacos are so good!   \n",
       "1747  Hi, my order was not delivered as the team said there were not salads and it was a system fault. So a refund of this order should be donde to my bank account. Many thanks.   \n",
       "\n",
       "                                                 multilabel  \n",
       "4390                               ['bad_quality_or_taste']  \n",
       "3168             ['good_services', 'good_quality_or_taste']  \n",
       "1038                                  ['portion_too_small']  \n",
       "1673           ['bad_service', 'global_negative_feedbacks']  \n",
       "2806                          ['global_positive_feedbacks']  \n",
       "2778                                      ['good_services']  \n",
       "1954  ['bad_quality_or_taste', 'global_negative_feedbacks']  \n",
       "3918                               ['bad_quality_or_taste']  \n",
       "3075                              ['good_quality_or_taste']  \n",
       "1747    ['product_not_available', 'wrong_or_missing_order']  "
      ]
     },
     "execution_count": 27,
     "metadata": {},
     "output_type": "execute_result"
    }
   ],
   "source": [
    "train_df.sample(10)"
   ]
  },
  {
   "cell_type": "code",
   "execution_count": 28,
   "metadata": {},
   "outputs": [],
   "source": [
    "train_df.to_csv('./ms_sentiment_multilabel_train.csv', index = False)\n",
    "val_df.to_csv('./ms_sentiment_multilabel_val.csv', index = False)"
   ]
  },
  {
   "cell_type": "code",
   "execution_count": 29,
   "metadata": {},
   "outputs": [
    {
     "data": {
      "text/html": [
       "<div>\n",
       "<style scoped>\n",
       "    .dataframe tbody tr th:only-of-type {\n",
       "        vertical-align: middle;\n",
       "    }\n",
       "\n",
       "    .dataframe tbody tr th {\n",
       "        vertical-align: top;\n",
       "    }\n",
       "\n",
       "    .dataframe thead th {\n",
       "        text-align: right;\n",
       "    }\n",
       "</style>\n",
       "<table border=\"1\" class=\"dataframe\">\n",
       "  <thead>\n",
       "    <tr style=\"text-align: right;\">\n",
       "      <th></th>\n",
       "      <th>comments</th>\n",
       "      <th>multilabel</th>\n",
       "    </tr>\n",
       "  </thead>\n",
       "  <tbody>\n",
       "    <tr>\n",
       "      <th>0</th>\n",
       "      <td>How about random surveys</td>\n",
       "      <td>['app_to_improve']</td>\n",
       "    </tr>\n",
       "    <tr>\n",
       "      <th>1</th>\n",
       "      <td>Lovely Mocha, thank you</td>\n",
       "      <td>['good_quality_or_taste']</td>\n",
       "    </tr>\n",
       "    <tr>\n",
       "      <th>2</th>\n",
       "      <td>Got the food. But Im not sure the ticket process worked today. I had to ask if they got my order.</td>\n",
       "      <td>['app_to_improve']</td>\n",
       "    </tr>\n",
       "    <tr>\n",
       "      <th>3</th>\n",
       "      <td>Great like always</td>\n",
       "      <td>['global_positive_feedbacks']</td>\n",
       "    </tr>\n",
       "    <tr>\n",
       "      <th>4</th>\n",
       "      <td>Excellent food and service. I put in a special request and all accommodations were met. Thanks</td>\n",
       "      <td>['good_services', 'good_quality_or_taste']</td>\n",
       "    </tr>\n",
       "    <tr>\n",
       "      <th>...</th>\n",
       "      <td>...</td>\n",
       "      <td>...</td>\n",
       "    </tr>\n",
       "    <tr>\n",
       "      <th>3583</th>\n",
       "      <td>Great as always!!!</td>\n",
       "      <td>['global_positive_feedbacks']</td>\n",
       "    </tr>\n",
       "    <tr>\n",
       "      <th>3584</th>\n",
       "      <td>I didnt get what I exactly ordered and the wait was pretty long</td>\n",
       "      <td>['wrong_or_missing_order', 'waited_too_long']</td>\n",
       "    </tr>\n",
       "    <tr>\n",
       "      <th>3585</th>\n",
       "      <td>Liked the clam chowder a lot...great for this raw Monday.</td>\n",
       "      <td>['good_quality_or_taste']</td>\n",
       "    </tr>\n",
       "    <tr>\n",
       "      <th>3586</th>\n",
       "      <td>Need a salad with grilled chicken everyday.</td>\n",
       "      <td>['good_quality_or_taste']</td>\n",
       "    </tr>\n",
       "    <tr>\n",
       "      <th>3587</th>\n",
       "      <td>Fish taco may not be the most convenient option for consumption at desk due to the complexity of using hands and applying sauces it could get messy.</td>\n",
       "      <td>['global_negative_feedbacks']</td>\n",
       "    </tr>\n",
       "  </tbody>\n",
       "</table>\n",
       "<p>3588 rows × 2 columns</p>\n",
       "</div>"
      ],
      "text/plain": [
       "                                                                                                                                                  comments  \\\n",
       "0                                                                                                                                 How about random surveys   \n",
       "1                                                                                                                                  Lovely Mocha, thank you   \n",
       "2                                                        Got the food. But Im not sure the ticket process worked today. I had to ask if they got my order.   \n",
       "3                                                                                                                                        Great like always   \n",
       "4                                                           Excellent food and service. I put in a special request and all accommodations were met. Thanks   \n",
       "...                                                                                                                                                    ...   \n",
       "3583                                                                                                                                    Great as always!!!   \n",
       "3584                                                                                       I didnt get what I exactly ordered and the wait was pretty long   \n",
       "3585                                                                                             Liked the clam chowder a lot...great for this raw Monday.   \n",
       "3586                                                                                                           Need a salad with grilled chicken everyday.   \n",
       "3587  Fish taco may not be the most convenient option for consumption at desk due to the complexity of using hands and applying sauces it could get messy.   \n",
       "\n",
       "                                         multilabel  \n",
       "0                                ['app_to_improve']  \n",
       "1                         ['good_quality_or_taste']  \n",
       "2                                ['app_to_improve']  \n",
       "3                     ['global_positive_feedbacks']  \n",
       "4        ['good_services', 'good_quality_or_taste']  \n",
       "...                                             ...  \n",
       "3583                  ['global_positive_feedbacks']  \n",
       "3584  ['wrong_or_missing_order', 'waited_too_long']  \n",
       "3585                      ['good_quality_or_taste']  \n",
       "3586                      ['good_quality_or_taste']  \n",
       "3587                  ['global_negative_feedbacks']  \n",
       "\n",
       "[3588 rows x 2 columns]"
      ]
     },
     "execution_count": 29,
     "metadata": {},
     "output_type": "execute_result"
    }
   ],
   "source": [
    "ee = pd.read_csv('ms_sentiment_multilabel_train.csv')\n",
    "ee"
   ]
  },
  {
   "cell_type": "code",
   "execution_count": 6,
   "metadata": {},
   "outputs": [
    {
     "data": {
      "text/html": [
       "<div>\n",
       "<style scoped>\n",
       "    .dataframe tbody tr th:only-of-type {\n",
       "        vertical-align: middle;\n",
       "    }\n",
       "\n",
       "    .dataframe tbody tr th {\n",
       "        vertical-align: top;\n",
       "    }\n",
       "\n",
       "    .dataframe thead th {\n",
       "        text-align: right;\n",
       "    }\n",
       "</style>\n",
       "<table border=\"1\" class=\"dataframe\">\n",
       "  <thead>\n",
       "    <tr style=\"text-align: right;\">\n",
       "      <th></th>\n",
       "      <th>comments</th>\n",
       "      <th>multilabel</th>\n",
       "    </tr>\n",
       "  </thead>\n",
       "  <tbody>\n",
       "    <tr>\n",
       "      <th>0</th>\n",
       "      <td>How about random surveys</td>\n",
       "      <td>['app_to_improve']</td>\n",
       "    </tr>\n",
       "    <tr>\n",
       "      <th>1</th>\n",
       "      <td>Lovely Mocha, thank you</td>\n",
       "      <td>['good_quality_or_taste']</td>\n",
       "    </tr>\n",
       "    <tr>\n",
       "      <th>2</th>\n",
       "      <td>Got the food. But Im not sure the ticket process worked today. I had to ask if they got my order.</td>\n",
       "      <td>['app_to_improve']</td>\n",
       "    </tr>\n",
       "    <tr>\n",
       "      <th>3</th>\n",
       "      <td>Great like always</td>\n",
       "      <td>['global_positive_feedbacks']</td>\n",
       "    </tr>\n",
       "    <tr>\n",
       "      <th>4</th>\n",
       "      <td>Excellent food and service. I put in a special request and all accommodations were met. Thanks</td>\n",
       "      <td>['good_services', 'good_quality_or_taste']</td>\n",
       "    </tr>\n",
       "    <tr>\n",
       "      <th>...</th>\n",
       "      <td>...</td>\n",
       "      <td>...</td>\n",
       "    </tr>\n",
       "    <tr>\n",
       "      <th>3583</th>\n",
       "      <td>Great as always!!!</td>\n",
       "      <td>['global_positive_feedbacks']</td>\n",
       "    </tr>\n",
       "    <tr>\n",
       "      <th>3584</th>\n",
       "      <td>I didnt get what I exactly ordered and the wait was pretty long</td>\n",
       "      <td>['wrong_or_missing_order', 'waited_too_long']</td>\n",
       "    </tr>\n",
       "    <tr>\n",
       "      <th>3585</th>\n",
       "      <td>Liked the clam chowder a lot...great for this raw Monday.</td>\n",
       "      <td>['good_quality_or_taste']</td>\n",
       "    </tr>\n",
       "    <tr>\n",
       "      <th>3586</th>\n",
       "      <td>Need a salad with grilled chicken everyday.</td>\n",
       "      <td>['good_quality_or_taste']</td>\n",
       "    </tr>\n",
       "    <tr>\n",
       "      <th>3587</th>\n",
       "      <td>Fish taco may not be the most convenient option for consumption at desk due to the complexity of using hands and applying sauces it could get messy.</td>\n",
       "      <td>['global_negative_feedbacks']</td>\n",
       "    </tr>\n",
       "  </tbody>\n",
       "</table>\n",
       "<p>3588 rows × 2 columns</p>\n",
       "</div>"
      ],
      "text/plain": [
       "                                                                                                                                                  comments  \\\n",
       "0                                                                                                                                 How about random surveys   \n",
       "1                                                                                                                                  Lovely Mocha, thank you   \n",
       "2                                                        Got the food. But Im not sure the ticket process worked today. I had to ask if they got my order.   \n",
       "3                                                                                                                                        Great like always   \n",
       "4                                                           Excellent food and service. I put in a special request and all accommodations were met. Thanks   \n",
       "...                                                                                                                                                    ...   \n",
       "3583                                                                                                                                    Great as always!!!   \n",
       "3584                                                                                       I didnt get what I exactly ordered and the wait was pretty long   \n",
       "3585                                                                                             Liked the clam chowder a lot...great for this raw Monday.   \n",
       "3586                                                                                                           Need a salad with grilled chicken everyday.   \n",
       "3587  Fish taco may not be the most convenient option for consumption at desk due to the complexity of using hands and applying sauces it could get messy.   \n",
       "\n",
       "                                         multilabel  \n",
       "0                                ['app_to_improve']  \n",
       "1                         ['good_quality_or_taste']  \n",
       "2                                ['app_to_improve']  \n",
       "3                     ['global_positive_feedbacks']  \n",
       "4        ['good_services', 'good_quality_or_taste']  \n",
       "...                                             ...  \n",
       "3583                  ['global_positive_feedbacks']  \n",
       "3584  ['wrong_or_missing_order', 'waited_too_long']  \n",
       "3585                      ['good_quality_or_taste']  \n",
       "3586                      ['good_quality_or_taste']  \n",
       "3587                  ['global_negative_feedbacks']  \n",
       "\n",
       "[3588 rows x 2 columns]"
      ]
     },
     "execution_count": 6,
     "metadata": {},
     "output_type": "execute_result"
    }
   ],
   "source": [
    "train_dataset = Dataset.get_by_name(ws, name='sent-multilabel-ms-train')\n",
    "train_dataset.to_pandas_dataframe()"
   ]
  },
  {
   "cell_type": "code",
   "execution_count": 7,
   "metadata": {},
   "outputs": [
    {
     "data": {
      "text/html": [
       "<div>\n",
       "<style scoped>\n",
       "    .dataframe tbody tr th:only-of-type {\n",
       "        vertical-align: middle;\n",
       "    }\n",
       "\n",
       "    .dataframe tbody tr th {\n",
       "        vertical-align: top;\n",
       "    }\n",
       "\n",
       "    .dataframe thead th {\n",
       "        text-align: right;\n",
       "    }\n",
       "</style>\n",
       "<table border=\"1\" class=\"dataframe\">\n",
       "  <thead>\n",
       "    <tr style=\"text-align: right;\">\n",
       "      <th></th>\n",
       "      <th>comments</th>\n",
       "      <th>multilabel</th>\n",
       "    </tr>\n",
       "  </thead>\n",
       "  <tbody>\n",
       "    <tr>\n",
       "      <th>0</th>\n",
       "      <td>Great staff and the sandwich tasted</td>\n",
       "      <td>['good_services', 'good_quality_or_taste']</td>\n",
       "    </tr>\n",
       "    <tr>\n",
       "      <th>1</th>\n",
       "      <td>Great service from Adrian</td>\n",
       "      <td>['good_services']</td>\n",
       "    </tr>\n",
       "    <tr>\n",
       "      <th>2</th>\n",
       "      <td>Excellent experience. Thanks for the wonderful Meals every time I ordered. I really them.</td>\n",
       "      <td>['global_positive_feedbacks', 'good_quality_or_taste']</td>\n",
       "    </tr>\n",
       "    <tr>\n",
       "      <th>3</th>\n",
       "      <td>Food was just done as I got there and the cook was very friendly. The burger also tasted great!</td>\n",
       "      <td>['good_services', 'arrived_on_time', 'good_quality_or_taste']</td>\n",
       "    </tr>\n",
       "    <tr>\n",
       "      <th>4</th>\n",
       "      <td>Great service from Callum!</td>\n",
       "      <td>['good_services']</td>\n",
       "    </tr>\n",
       "    <tr>\n",
       "      <th>...</th>\n",
       "      <td>...</td>\n",
       "      <td>...</td>\n",
       "    </tr>\n",
       "    <tr>\n",
       "      <th>893</th>\n",
       "      <td>Plz clean ketchup packets, they are sticky</td>\n",
       "      <td>['bad_service']</td>\n",
       "    </tr>\n",
       "    <tr>\n",
       "      <th>894</th>\n",
       "      <td>Great first experience. Took a bit long to set up the app but next time it will be easier. :</td>\n",
       "      <td>['global_positive_feedbacks']</td>\n",
       "    </tr>\n",
       "    <tr>\n",
       "      <th>895</th>\n",
       "      <td>Please include the default toppings so in future orders I can ask them to hold these toppings i.e. lettuce, tomato, onions, etc.</td>\n",
       "      <td>['app_to_improve']</td>\n",
       "    </tr>\n",
       "    <tr>\n",
       "      <th>896</th>\n",
       "      <td>Food was amazing. You guys are awesome. Have a great day.</td>\n",
       "      <td>['good_services', 'good_quality_or_taste']</td>\n",
       "    </tr>\n",
       "    <tr>\n",
       "      <th>897</th>\n",
       "      <td>Never got the drink</td>\n",
       "      <td>['wrong_or_missing_order']</td>\n",
       "    </tr>\n",
       "  </tbody>\n",
       "</table>\n",
       "<p>898 rows × 2 columns</p>\n",
       "</div>"
      ],
      "text/plain": [
       "                                                                                                                             comments  \\\n",
       "0                                                                                                 Great staff and the sandwich tasted   \n",
       "1                                                                                                          Great service from Adrian    \n",
       "2                                           Excellent experience. Thanks for the wonderful Meals every time I ordered. I really them.   \n",
       "3                                     Food was just done as I got there and the cook was very friendly. The burger also tasted great!   \n",
       "4                                                                                                          Great service from Callum!   \n",
       "..                                                                                                                                ...   \n",
       "893                                                                                        Plz clean ketchup packets, they are sticky   \n",
       "894                                      Great first experience. Took a bit long to set up the app but next time it will be easier. :   \n",
       "895  Please include the default toppings so in future orders I can ask them to hold these toppings i.e. lettuce, tomato, onions, etc.   \n",
       "896                                                                         Food was amazing. You guys are awesome. Have a great day.   \n",
       "897                                                                                                               Never got the drink   \n",
       "\n",
       "                                                        multilabel  \n",
       "0                       ['good_services', 'good_quality_or_taste']  \n",
       "1                                                ['good_services']  \n",
       "2           ['global_positive_feedbacks', 'good_quality_or_taste']  \n",
       "3    ['good_services', 'arrived_on_time', 'good_quality_or_taste']  \n",
       "4                                                ['good_services']  \n",
       "..                                                             ...  \n",
       "893                                                ['bad_service']  \n",
       "894                                  ['global_positive_feedbacks']  \n",
       "895                                             ['app_to_improve']  \n",
       "896                     ['good_services', 'good_quality_or_taste']  \n",
       "897                                     ['wrong_or_missing_order']  \n",
       "\n",
       "[898 rows x 2 columns]"
      ]
     },
     "execution_count": 7,
     "metadata": {},
     "output_type": "execute_result"
    }
   ],
   "source": [
    "val_dataset = Dataset.get_by_name(ws, name='sent-multilabel-ms-val')\n",
    "val_dataset.to_pandas_dataframe()"
   ]
  },
  {
   "cell_type": "markdown",
   "metadata": {},
   "source": [
    "# Train\n",
    "\n",
    "## Submit AutoML run"
   ]
  },
  {
   "cell_type": "markdown",
   "metadata": {},
   "source": [
    "Now we can start the run with the prepared compute resource and datasets. This should only take a few minutes.\n",
    "\n",
    "Here we do not set `primary_metric` parameter as we only train one model and we do not need to rank trained models. The run will use default primary metrics, `accuracy`. But it is only for reporting purpose."
   ]
  },
  {
   "cell_type": "code",
   "execution_count": 12,
   "metadata": {},
   "outputs": [
    {
     "name": "stderr",
     "output_type": "stream",
     "text": [
      "WARNING:root:scenario is an internal parameter that should not be used for regular experiments.\n"
     ]
    }
   ],
   "source": [
    "from azureml.train.hyperdrive import BanditPolicy, RandomParameterSampling, GridParameterSampling\n",
    "from azureml.train.hyperdrive import choice, uniform\n",
    "\n",
    "\n",
    "# Example config with single non-BERT model and wide hyperparameter space.\n",
    "# parameter_space = {\n",
    "#     \"model\": choice(\n",
    "#         {\n",
    "#             \"model_name\": choice(\"roberta-base\"),\n",
    "#             \"learning_rate\": uniform(1e-6, 1e-4),\n",
    "#             \"weight_decay\": uniform(0.0, 0.1),\n",
    "#             \"train_batch_size\": choice(8, 16, 32),\n",
    "#             \"num_train_epochs\": choice(3, 4, 5),\n",
    "#             \"warmup_ratio\": uniform(0.0, 0.2),\n",
    "#             \"lr_scheduler_type\": choice(\"linear\", \"cosine_with_restarts\", \"cosine\", \"polynomial\", \"constant\", \"constant_with_warmup\")\n",
    "#         },\n",
    "#     ),\n",
    "# }\n",
    "\n",
    "# Example config with different conditional model parameter spaces.\n",
    "# parameter_space = {\n",
    "#     \"model\": choice(\n",
    "#         {\n",
    "#             \"model_name\": choice(\"bert-base-multilingual-cased\"),\n",
    "#             \"train_batch_size\": choice(16),\n",
    "#             \"gradient_accumulation_steps\": choice(2)\n",
    "#         },\n",
    "#         {\n",
    "#             \"model_name\": choice(\"xlm-roberta-base\")\n",
    "#         }\n",
    "#     )\n",
    "# }\n",
    "\n",
    "# Example config for just model sweeping.\n",
    "# parameter_space = {\n",
    "#     \"model_name\": choice(\"distilbert-base-cased\", \"distilroberta-base\")\n",
    "# }\n",
    "# Example config for just model sweeping.\n",
    "# parameter_space = {\n",
    "#     \"model_name\": choice(\"bert-base-cased\", \"roberta-base\", \"xlnet-base-cased\", \n",
    "#                          \"distilbert-base-cased\", \"xlm-roberta-base\", \"distilroberta-base\")\n",
    "# }\n",
    "\n",
    "# Example config for sweeping over large models.\n",
    "parameter_space = {\n",
    "    \"model_name\": choice(\"bert-large-cased\", \"roberta-large\", \"xlnet-large-cased\", \"xlm-roberta-large\")\n",
    "}\n",
    "\n",
    "# If early termination is desired, uncomment and set as necessary. Note that in the latest indices,\n",
    "# the model only evaluates every 2000 steps, so a large dataset will be needed in order for this to be actually useful.\n",
    "tuning_settings = {\n",
    "    \"iterations\": 4,\n",
    "#     \"max_concurrent_iterations\": 2,\n",
    "    \"hyperparameter_sampling\": GridParameterSampling(parameter_space),\n",
    "#     \"early_termination_policy\": BanditPolicy(\n",
    "#         evaluation_interval=2, slack_amount=0.03, delay_evaluation=6\n",
    "#     ),\n",
    "}\n",
    "label_column_name = \"multilabel\"\n",
    "dataset_language = \"eng\"\n",
    "autonlp_config = AutoNLPConfig(\n",
    "    primary_metric=\"accuracy\",\n",
    "    task=\"text-classification-multilabel\",\n",
    "    compute_target=compute_target,\n",
    "    training_data=train_dataset,\n",
    "    validation_data=val_dataset,\n",
    "    dataset_language=dataset_language,\n",
    "    label_column_name=label_column_name,\n",
    "    scenario=\"TextDNN-Candidate\",\n",
    "#     enable_distributed_dnn_training=True,\n",
    "    **tuning_settings\n",
    ")\n",
    "\n",
    "# For now, tuning_settings[\"max_concurrent_iterations\"] controls how many trials we run concurrently.\n",
    "# The below setting is our original max_concurrent_iterations lever which affects multi-node distribution.\n",
    "# Set as necessary for distributed training.\n",
    "# autonlp_config.user_settings['max_concurrent_iterations'] = 2"
   ]
  },
  {
   "cell_type": "markdown",
   "metadata": {},
   "source": [
    "#### Submit AutoML Run"
   ]
  },
  {
   "cell_type": "code",
   "execution_count": 13,
   "metadata": {
    "gather": {
     "logged": 1633480498717
    }
   },
   "outputs": [
    {
     "name": "stdout",
     "output_type": "stream",
     "text": [
      "Submitting remote run.\n"
     ]
    },
    {
     "data": {
      "text/html": [
       "<table style=\"width:100%\"><tr><th>Experiment</th><th>Id</th><th>Type</th><th>Status</th><th>Details Page</th><th>Docs Page</th></tr><tr><td>automl-nlp-text-multiclass-smartConcat</td><td>AutoML_035ca838-51fb-4d00-bd6d-ac8ca4bad77e</td><td>automl</td><td>NotStarted</td><td><a href=\"https://ml.azure.com/runs/AutoML_035ca838-51fb-4d00-bd6d-ac8ca4bad77e?wsid=/subscriptions/2dbd7833-129e-4a48-b976-e6dd28a92c29/resourcegroups/sodexo-nlp/workspaces/sodexo-nlp&amp;tid=72f988bf-86f1-41af-91ab-2d7cd011db47\" target=\"_blank\" rel=\"noopener\">Link to Azure Machine Learning studio</a></td><td><a href=\"https://docs.microsoft.com/en-us/python/api/overview/azure/ml/intro?view=azure-ml-py\" target=\"_blank\" rel=\"noopener\">Link to Documentation</a></td></tr></table>"
      ],
      "text/plain": [
       "<IPython.core.display.HTML object>"
      ]
     },
     "metadata": {},
     "output_type": "display_data"
    }
   ],
   "source": [
    "automl_run = experiment.submit(autonlp_config, show_output=False)\n",
    "_ = automl_run.wait_for_completion(show_output=False)"
   ]
  },
  {
   "cell_type": "markdown",
   "metadata": {},
   "source": [
    "## Download Metrics\n",
    "\n",
    "These metrics logged with the training run are computed with the trained model on validation dataset"
   ]
  },
  {
   "cell_type": "code",
   "execution_count": 1,
   "metadata": {},
   "outputs": [
    {
     "ename": "NameError",
     "evalue": "name 'automl_run' is not defined",
     "output_type": "error",
     "traceback": [
      "\u001b[0;31m---------------------------------------------------------------------------\u001b[0m",
      "\u001b[0;31mNameError\u001b[0m                                 Traceback (most recent call last)",
      "\u001b[0;32m/tmp/ipykernel_2992/497719269.py\u001b[0m in \u001b[0;36m<module>\u001b[0;34m\u001b[0m\n\u001b[0;32m----> 1\u001b[0;31m \u001b[0mvalidation_metrics\u001b[0m \u001b[0;34m=\u001b[0m \u001b[0mautoml_run\u001b[0m\u001b[0;34m.\u001b[0m\u001b[0mget_metrics\u001b[0m\u001b[0;34m(\u001b[0m\u001b[0;34m)\u001b[0m\u001b[0;34m\u001b[0m\u001b[0;34m\u001b[0m\u001b[0m\n\u001b[0m\u001b[1;32m      2\u001b[0m pd.DataFrame(\n\u001b[1;32m      3\u001b[0m     \u001b[0;34m{\u001b[0m\u001b[0;34m\"metric_name\"\u001b[0m\u001b[0;34m:\u001b[0m \u001b[0mvalidation_metrics\u001b[0m\u001b[0;34m.\u001b[0m\u001b[0mkeys\u001b[0m\u001b[0;34m(\u001b[0m\u001b[0;34m)\u001b[0m\u001b[0;34m,\u001b[0m \u001b[0;34m\"value\"\u001b[0m\u001b[0;34m:\u001b[0m \u001b[0mvalidation_metrics\u001b[0m\u001b[0;34m.\u001b[0m\u001b[0mvalues\u001b[0m\u001b[0;34m(\u001b[0m\u001b[0;34m)\u001b[0m\u001b[0;34m}\u001b[0m\u001b[0;34m\u001b[0m\u001b[0;34m\u001b[0m\u001b[0m\n\u001b[1;32m      4\u001b[0m )\n",
      "\u001b[0;31mNameError\u001b[0m: name 'automl_run' is not defined"
     ]
    }
   ],
   "source": [
    "validation_metrics = automl_run.get_metrics()\n",
    "pd.DataFrame(\n",
    "    {\"metric_name\": validation_metrics.keys(), \"value\": validation_metrics.values()}\n",
    ")"
   ]
  },
  {
   "cell_type": "markdown",
   "metadata": {},
   "source": [
    "You can also get the best run id and the best model with `get_output` method."
   ]
  },
  {
   "cell_type": "code",
   "execution_count": 13,
   "metadata": {},
   "outputs": [
    {
     "name": "stderr",
     "output_type": "stream",
     "text": [
      "WARNING:root:No dependencies information found in the RunHistory.\n"
     ]
    },
    {
     "data": {
      "text/html": [
       "<table style=\"width:100%\"><tr><th>Experiment</th><th>Id</th><th>Type</th><th>Status</th><th>Details Page</th><th>Docs Page</th></tr><tr><td>automl-nlp-text-multiclass-smartConcat</td><td>AutoML_7be6866d-c756-4427-88af-686f865bb7a3_HD_0</td><td>azureml.scriptrun</td><td>Completed</td><td><a href=\"https://ml.azure.com/runs/AutoML_7be6866d-c756-4427-88af-686f865bb7a3_HD_0?wsid=/subscriptions/381b38e9-9840-4719-a5a0-61d9585e1e91/resourcegroups/arjun_eastUS_rg/workspaces/arjun_ws&amp;tid=72f988bf-86f1-41af-91ab-2d7cd011db47\" target=\"_blank\" rel=\"noopener\">Link to Azure Machine Learning studio</a></td><td><a href=\"https://docs.microsoft.com/en-us/python/api/azureml-core/azureml.core.run.Run?view=azure-ml-py\" target=\"_blank\" rel=\"noopener\">Link to Documentation</a></td></tr></table>"
      ],
      "text/plain": [
       "Run(Experiment: automl-nlp-text-multiclass-smartConcat,\n",
       "Id: AutoML_7be6866d-c756-4427-88af-686f865bb7a3_HD_0,\n",
       "Type: azureml.scriptrun,\n",
       "Status: Completed)"
      ]
     },
     "execution_count": 13,
     "metadata": {},
     "output_type": "execute_result"
    }
   ],
   "source": [
    "(\n",
    "    best_run,\n",
    "    best_model,\n",
    ") = (\n",
    "    automl_run.get_output()\n",
    ")  # You might see a warning about \"enable_distributed_dnn_training\". Please simply ignore.\n",
    "best_run"
   ]
  },
  {
   "cell_type": "markdown",
   "metadata": {},
   "source": [
    "# Local inference"
   ]
  },
  {
   "cell_type": "code",
   "execution_count": 5,
   "metadata": {},
   "outputs": [],
   "source": [
    "import pandas as pd\n",
    "import numpy as np\n",
    "import pickle\n",
    "import os\n",
    "\n",
    "from sklearn.metrics import classification_report"
   ]
  },
  {
   "cell_type": "code",
   "execution_count": 2,
   "metadata": {},
   "outputs": [
    {
     "name": "stdout",
     "output_type": "stream",
     "text": [
      "['app_to_improve', 'app_works_well', 'arrived_on_time', 'bad_food_temperature', 'bad_quality_or_taste', 'bad_service', 'global_negative_feedbacks', 'global_positive_feedbacks', 'good_food_temperature', 'good_quality_or_taste', 'good_services', 'inappropriate_packaging', 'misleading_images', 'not_enough_options', 'other', 'packaging_not_sustainable', 'portion_too_small', 'product_not_available', 'too_expensive', 'waited_too_long', 'wrong_or_missing_order']\n"
     ]
    }
   ],
   "source": [
    "val_df = pd.read_csv('./ms_sentiment_multilabel_val.csv')\n",
    "\n",
    "model_path = './models/xlm-roberta-large.pkl'\n",
    "\n",
    "with open(model_path, 'rb') as f:\n",
    "    model = pickle.load(f)\n",
    "\n",
    "labels = list(model.y_transformer.classes_)\n",
    "\n",
    "print(labels)\n",
    "\n",
    "data = val_df.copy()"
   ]
  },
  {
   "cell_type": "code",
   "execution_count": 16,
   "metadata": {},
   "outputs": [],
   "source": [
    "outputs = model.predict(data, threshold = 0.142105)"
   ]
  },
  {
   "cell_type": "code",
   "execution_count": 17,
   "metadata": {},
   "outputs": [],
   "source": [
    "y_true_series = val_df['multilabel']\n",
    "y_pred_list = outputs\n",
    "\n",
    "y_pred_arr = np.zeros([len(y_pred_list), len(labels)])\n",
    "y_true_arr = np.zeros([len(y_true_series), len(labels)])\n",
    "\n",
    "# build encoded matrix for y_pred_arr\n",
    "for row_idx, observation in enumerate(y_pred_list):\n",
    "    for label_idx, label in enumerate(labels):\n",
    "        if label in observation:\n",
    "            y_pred_arr[row_idx, label_idx] = 1\n",
    "\n",
    "# build encoded matrix for y_true_arr\n",
    "for row_idx, observation in enumerate(y_true_series):\n",
    "    for label_idx, label in enumerate(labels):\n",
    "        if observation.find(label) != -1:\n",
    "            y_true_arr[row_idx, label_idx] = 1\n",
    "\n"
   ]
  },
  {
   "cell_type": "code",
   "execution_count": 18,
   "metadata": {},
   "outputs": [
    {
     "data": {
      "text/plain": [
       "0.643652561247216"
      ]
     },
     "execution_count": 18,
     "metadata": {},
     "output_type": "execute_result"
    }
   ],
   "source": [
    "# calculate percentage of samples where all labels are predicted correctly\n",
    "np.sum(np.all(y_pred_arr == y_true_arr, axis=1)) / y_true_arr.shape[0]"
   ]
  },
  {
   "cell_type": "code",
   "execution_count": 19,
   "metadata": {},
   "outputs": [
    {
     "name": "stdout",
     "output_type": "stream",
     "text": [
      "                           precision    recall  f1-score   support\n",
      "\n",
      "           app_to_improve       0.65      0.82      0.72        56\n",
      "           app_works_well       0.25      0.11      0.15         9\n",
      "          arrived_on_time       0.58      1.00      0.73        33\n",
      "     bad_food_temperature       0.82      1.00      0.90        32\n",
      "     bad_quality_or_taste       0.85      0.99      0.92       136\n",
      "              bad_service       0.71      0.29      0.42        17\n",
      "global_negative_feedbacks       0.29      0.65      0.40        37\n",
      "global_positive_feedbacks       0.53      0.93      0.68       107\n",
      "    good_food_temperature       0.75      0.38      0.50         8\n",
      "    good_quality_or_taste       0.79      1.00      0.88       229\n",
      "            good_services       0.86      1.00      0.92       174\n",
      "  inappropriate_packaging       0.74      0.87      0.80        23\n",
      "        misleading_images       0.00      0.00      0.00         5\n",
      "       not_enough_options       0.73      0.95      0.83        43\n",
      "                    other       1.00      0.33      0.50        21\n",
      "packaging_not_sustainable       1.00      0.00      0.00         4\n",
      "        portion_too_small       0.52      1.00      0.68        43\n",
      "    product_not_available       0.70      0.58      0.64        12\n",
      "            too_expensive       0.75      0.75      0.75         8\n",
      "          waited_too_long       0.84      1.00      0.91        31\n",
      "   wrong_or_missing_order       0.82      0.98      0.90       126\n",
      "\n",
      "                micro avg       0.72      0.92      0.80      1154\n",
      "                macro avg       0.68      0.70      0.63      1154\n",
      "             weighted avg       0.74      0.92      0.81      1154\n",
      "              samples avg       0.81      0.93      0.85      1154\n",
      "\n"
     ]
    }
   ],
   "source": [
    "# y_pred_arr = np.random.randint(2, size=(len(y_pred_list), len(labels)))\n",
    "\n",
    "print(classification_report(y_true_arr, y_pred_arr, target_names=labels, zero_division=True))"
   ]
  },
  {
   "cell_type": "code",
   "execution_count": 9,
   "metadata": {},
   "outputs": [
    {
     "data": {
      "text/html": [
       "<div>\n",
       "<style scoped>\n",
       "    .dataframe tbody tr th:only-of-type {\n",
       "        vertical-align: middle;\n",
       "    }\n",
       "\n",
       "    .dataframe tbody tr th {\n",
       "        vertical-align: top;\n",
       "    }\n",
       "\n",
       "    .dataframe thead th {\n",
       "        text-align: right;\n",
       "    }\n",
       "</style>\n",
       "<table border=\"1\" class=\"dataframe\">\n",
       "  <thead>\n",
       "    <tr style=\"text-align: right;\">\n",
       "      <th></th>\n",
       "      <th>comments</th>\n",
       "      <th>multilabel</th>\n",
       "      <th>predicted</th>\n",
       "    </tr>\n",
       "  </thead>\n",
       "  <tbody>\n",
       "    <tr>\n",
       "      <th>645</th>\n",
       "      <td>I luv coke</td>\n",
       "      <td>['global_positive_feedbacks']</td>\n",
       "      <td>(global_positive_feedbacks, good_quality_or_ta...</td>\n",
       "    </tr>\n",
       "    <tr>\n",
       "      <th>323</th>\n",
       "      <td>I appreciated a fully vegetarian meal. Every d...</td>\n",
       "      <td>['not_enough_options', 'good_quality_or_taste']</td>\n",
       "      <td>(not_enough_options,)</td>\n",
       "    </tr>\n",
       "    <tr>\n",
       "      <th>866</th>\n",
       "      <td>Phenomenal!</td>\n",
       "      <td>['global_positive_feedbacks']</td>\n",
       "      <td>(global_positive_feedbacks,)</td>\n",
       "    </tr>\n",
       "    <tr>\n",
       "      <th>209</th>\n",
       "      <td>Meat was too salty/dry</td>\n",
       "      <td>['bad_quality_or_taste']</td>\n",
       "      <td>(bad_quality_or_taste,)</td>\n",
       "    </tr>\n",
       "    <tr>\n",
       "      <th>830</th>\n",
       "      <td>No salad bar, food is cold, no personal service.</td>\n",
       "      <td>['not_enough_options', 'bad_food_temperature',...</td>\n",
       "      <td>(bad_food_temperature, not_enough_options)</td>\n",
       "    </tr>\n",
       "    <tr>\n",
       "      <th>595</th>\n",
       "      <td>Instead of large I got a medium we corrected a...</td>\n",
       "      <td>['wrong_or_missing_order']</td>\n",
       "      <td>(wrong_or_missing_order,)</td>\n",
       "    </tr>\n",
       "    <tr>\n",
       "      <th>708</th>\n",
       "      <td>Kitchen team needs to remove the shrimp shells...</td>\n",
       "      <td>['bad_quality_or_taste']</td>\n",
       "      <td>(bad_quality_or_taste,)</td>\n",
       "    </tr>\n",
       "    <tr>\n",
       "      <th>819</th>\n",
       "      <td>Meal was made well, but it did not appeal to me.</td>\n",
       "      <td>['good_services', 'bad_quality_or_taste']</td>\n",
       "      <td>(bad_quality_or_taste, good_services)</td>\n",
       "    </tr>\n",
       "    <tr>\n",
       "      <th>137</th>\n",
       "      <td>First time ordering and it was so easy and the...</td>\n",
       "      <td>['global_positive_feedbacks', 'good_quality_or...</td>\n",
       "      <td>(global_positive_feedbacks, good_quality_or_ta...</td>\n",
       "    </tr>\n",
       "    <tr>\n",
       "      <th>378</th>\n",
       "      <td>missing</td>\n",
       "      <td>['global_negative_feedbacks']</td>\n",
       "      <td>()</td>\n",
       "    </tr>\n",
       "    <tr>\n",
       "      <th>259</th>\n",
       "      <td>Food is cooked with lowest effort possible, no...</td>\n",
       "      <td>['portion_too_small', 'bad_quality_or_taste']</td>\n",
       "      <td>(bad_quality_or_taste, portion_too_small)</td>\n",
       "    </tr>\n",
       "    <tr>\n",
       "      <th>151</th>\n",
       "      <td>American instead of cheddar cheese. No Swiss c...</td>\n",
       "      <td>['wrong_or_missing_order']</td>\n",
       "      <td>(wrong_or_missing_order,)</td>\n",
       "    </tr>\n",
       "    <tr>\n",
       "      <th>861</th>\n",
       "      <td>I wish I didnt have to I close this survey eve...</td>\n",
       "      <td>['app_to_improve']</td>\n",
       "      <td>(app_to_improve,)</td>\n",
       "    </tr>\n",
       "    <tr>\n",
       "      <th>23</th>\n",
       "      <td>I actually got bacon instead of the sausage sa...</td>\n",
       "      <td>['wrong_or_missing_order']</td>\n",
       "      <td>(wrong_or_missing_order,)</td>\n",
       "    </tr>\n",
       "    <tr>\n",
       "      <th>168</th>\n",
       "      <td>Had to wait in line. Sandwich lacked flavor</td>\n",
       "      <td>['bad_quality_or_taste', 'waited_too_long']</td>\n",
       "      <td>(bad_quality_or_taste, waited_too_long)</td>\n",
       "    </tr>\n",
       "    <tr>\n",
       "      <th>165</th>\n",
       "      <td>Jo was wonderful</td>\n",
       "      <td>['good_services']</td>\n",
       "      <td>(good_services,)</td>\n",
       "    </tr>\n",
       "    <tr>\n",
       "      <th>68</th>\n",
       "      <td>I picked a banana muffin but it was actually b...</td>\n",
       "      <td>['wrong_or_missing_order']</td>\n",
       "      <td>(wrong_or_missing_order,)</td>\n",
       "    </tr>\n",
       "    <tr>\n",
       "      <th>734</th>\n",
       "      <td>Order was not ready as noted on app. Cafe team...</td>\n",
       "      <td>['app_to_improve', 'good_services', 'wrong_or_...</td>\n",
       "      <td>(arrived_on_time, good_services)</td>\n",
       "    </tr>\n",
       "    <tr>\n",
       "      <th>171</th>\n",
       "      <td>Broccoli was too hardneeds to be boiled longer</td>\n",
       "      <td>['bad_quality_or_taste']</td>\n",
       "      <td>(bad_quality_or_taste,)</td>\n",
       "    </tr>\n",
       "    <tr>\n",
       "      <th>463</th>\n",
       "      <td>Order didnt show up!</td>\n",
       "      <td>['wrong_or_missing_order']</td>\n",
       "      <td>(wrong_or_missing_order,)</td>\n",
       "    </tr>\n",
       "    <tr>\n",
       "      <th>610</th>\n",
       "      <td>Coffee was delicious and latte art was great!</td>\n",
       "      <td>['good_quality_or_taste']</td>\n",
       "      <td>(good_quality_or_taste,)</td>\n",
       "    </tr>\n",
       "  </tbody>\n",
       "</table>\n",
       "</div>"
      ],
      "text/plain": [
       "                                              comments  \\\n",
       "645                                         I luv coke   \n",
       "323  I appreciated a fully vegetarian meal. Every d...   \n",
       "866                                        Phenomenal!   \n",
       "209                             Meat was too salty/dry   \n",
       "830   No salad bar, food is cold, no personal service.   \n",
       "595  Instead of large I got a medium we corrected a...   \n",
       "708  Kitchen team needs to remove the shrimp shells...   \n",
       "819   Meal was made well, but it did not appeal to me.   \n",
       "137  First time ordering and it was so easy and the...   \n",
       "378                                            missing   \n",
       "259  Food is cooked with lowest effort possible, no...   \n",
       "151  American instead of cheddar cheese. No Swiss c...   \n",
       "861  I wish I didnt have to I close this survey eve...   \n",
       "23   I actually got bacon instead of the sausage sa...   \n",
       "168        Had to wait in line. Sandwich lacked flavor   \n",
       "165                                   Jo was wonderful   \n",
       "68   I picked a banana muffin but it was actually b...   \n",
       "734  Order was not ready as noted on app. Cafe team...   \n",
       "171     Broccoli was too hardneeds to be boiled longer   \n",
       "463                               Order didnt show up!   \n",
       "610      Coffee was delicious and latte art was great!   \n",
       "\n",
       "                                            multilabel  \\\n",
       "645                      ['global_positive_feedbacks']   \n",
       "323    ['not_enough_options', 'good_quality_or_taste']   \n",
       "866                      ['global_positive_feedbacks']   \n",
       "209                           ['bad_quality_or_taste']   \n",
       "830  ['not_enough_options', 'bad_food_temperature',...   \n",
       "595                         ['wrong_or_missing_order']   \n",
       "708                           ['bad_quality_or_taste']   \n",
       "819          ['good_services', 'bad_quality_or_taste']   \n",
       "137  ['global_positive_feedbacks', 'good_quality_or...   \n",
       "378                      ['global_negative_feedbacks']   \n",
       "259      ['portion_too_small', 'bad_quality_or_taste']   \n",
       "151                         ['wrong_or_missing_order']   \n",
       "861                                 ['app_to_improve']   \n",
       "23                          ['wrong_or_missing_order']   \n",
       "168        ['bad_quality_or_taste', 'waited_too_long']   \n",
       "165                                  ['good_services']   \n",
       "68                          ['wrong_or_missing_order']   \n",
       "734  ['app_to_improve', 'good_services', 'wrong_or_...   \n",
       "171                           ['bad_quality_or_taste']   \n",
       "463                         ['wrong_or_missing_order']   \n",
       "610                          ['good_quality_or_taste']   \n",
       "\n",
       "                                             predicted  \n",
       "645  (global_positive_feedbacks, good_quality_or_ta...  \n",
       "323                              (not_enough_options,)  \n",
       "866                       (global_positive_feedbacks,)  \n",
       "209                            (bad_quality_or_taste,)  \n",
       "830         (bad_food_temperature, not_enough_options)  \n",
       "595                          (wrong_or_missing_order,)  \n",
       "708                            (bad_quality_or_taste,)  \n",
       "819              (bad_quality_or_taste, good_services)  \n",
       "137  (global_positive_feedbacks, good_quality_or_ta...  \n",
       "378                                                 ()  \n",
       "259          (bad_quality_or_taste, portion_too_small)  \n",
       "151                          (wrong_or_missing_order,)  \n",
       "861                                  (app_to_improve,)  \n",
       "23                           (wrong_or_missing_order,)  \n",
       "168            (bad_quality_or_taste, waited_too_long)  \n",
       "165                                   (good_services,)  \n",
       "68                           (wrong_or_missing_order,)  \n",
       "734                   (arrived_on_time, good_services)  \n",
       "171                            (bad_quality_or_taste,)  \n",
       "463                          (wrong_or_missing_order,)  \n",
       "610                           (good_quality_or_taste,)  "
      ]
     },
     "execution_count": 9,
     "metadata": {},
     "output_type": "execute_result"
    }
   ],
   "source": [
    "val_df['predicted'] = outputs\n",
    "val_df.sample(21)"
   ]
  },
  {
   "cell_type": "code",
   "execution_count": 10,
   "metadata": {},
   "outputs": [
    {
     "data": {
      "text/plain": [
       "0.472933636763225"
      ]
     },
     "execution_count": 10,
     "metadata": {},
     "output_type": "execute_result"
    }
   ],
   "source": [
    "from sklearn.metrics import f1_score\n",
    "\n",
    "f1_score(y_true_arr, y_pred_arr, average='macro')"
   ]
  },
  {
   "cell_type": "code",
   "execution_count": 12,
   "metadata": {},
   "outputs": [
    {
     "name": "stdout",
     "output_type": "stream",
     "text": [
      "[0.1        0.12105263 0.14210526 0.16315789 0.18421053 0.20526316\n",
      " 0.22631579 0.24736842 0.26842105 0.28947368 0.31052632 0.33157895\n",
      " 0.35263158 0.37368421 0.39473684 0.41578947 0.43684211 0.45789474\n",
      " 0.47894737 0.5       ]\n"
     ]
    }
   ],
   "source": [
    "thresholds = np.linspace(0.1, 0.5, 20)\n",
    "print(thresholds)"
   ]
  },
  {
   "cell_type": "code",
   "execution_count": 15,
   "metadata": {},
   "outputs": [
    {
     "name": "stdout",
     "output_type": "stream",
     "text": [
      "Threshold: 0.100000 - f1-macro : 0.6607 - f1-weighted : 0.7635\n",
      "Threshold: 0.121053 - f1-macro : 0.6284 - f1-weighted : 0.7900\n",
      "Threshold: 0.142105 - f1-macro : 0.6305 - f1-weighted : 0.8058\n",
      "Threshold: 0.163158 - f1-macro : 0.6102 - f1-weighted : 0.8146\n",
      "Threshold: 0.184211 - f1-macro : 0.5861 - f1-weighted : 0.8104\n",
      "Threshold: 0.205263 - f1-macro : 0.5711 - f1-weighted : 0.8125\n",
      "Threshold: 0.226316 - f1-macro : 0.5567 - f1-weighted : 0.8100\n",
      "Threshold: 0.247368 - f1-macro : 0.5404 - f1-weighted : 0.8113\n",
      "Threshold: 0.268421 - f1-macro : 0.5267 - f1-weighted : 0.8120\n",
      "Threshold: 0.289474 - f1-macro : 0.5189 - f1-weighted : 0.8108\n",
      "Threshold: 0.310526 - f1-macro : 0.5163 - f1-weighted : 0.8133\n",
      "Threshold: 0.331579 - f1-macro : 0.5173 - f1-weighted : 0.8157\n",
      "Threshold: 0.352632 - f1-macro : 0.5057 - f1-weighted : 0.8155\n",
      "Threshold: 0.373684 - f1-macro : 0.5058 - f1-weighted : 0.8167\n",
      "Threshold: 0.394737 - f1-macro : 0.4876 - f1-weighted : 0.8114\n",
      "Threshold: 0.415789 - f1-macro : 0.4850 - f1-weighted : 0.8128\n",
      "Threshold: 0.436842 - f1-macro : 0.4787 - f1-weighted : 0.8095\n",
      "Threshold: 0.457895 - f1-macro : 0.4782 - f1-weighted : 0.8098\n",
      "Threshold: 0.478947 - f1-macro : 0.4778 - f1-weighted : 0.8111\n",
      "Threshold: 0.500000 - f1-macro : 0.4729 - f1-weighted : 0.8103\n"
     ]
    }
   ],
   "source": [
    "for threshold in thresholds:\n",
    "    outputs = model.predict(data, threshold = threshold)\n",
    "\n",
    "    y_true_series = val_df['multilabel']\n",
    "    y_pred_list = outputs\n",
    "\n",
    "    y_pred_arr = np.zeros([len(y_pred_list), len(labels)])\n",
    "    y_true_arr = np.zeros([len(y_true_series), len(labels)])\n",
    "\n",
    "    # build encoded matrix for y_pred_arr\n",
    "    for row_idx, observation in enumerate(y_pred_list):\n",
    "        for label_idx, label in enumerate(labels):\n",
    "            if label in observation:\n",
    "                y_pred_arr[row_idx, label_idx] = 1\n",
    "\n",
    "    # build encoded matrix for y_true_arr\n",
    "    for row_idx, observation in enumerate(y_true_series):\n",
    "        for label_idx, label in enumerate(labels):\n",
    "            if observation.find(label) != -1:\n",
    "                y_true_arr[row_idx, label_idx] = 1\n",
    "\n",
    "    f1_macro = f1_score(y_true_arr, y_pred_arr, average='macro')\n",
    "    f1_weighted = f1_score(y_true_arr, y_pred_arr, average='weighted')\n",
    "    \n",
    "    print (f'Threshold: {threshold:.6f} - f1-macro : {f1_macro:.4f} - f1-weighted : {f1_weighted:.4f}')\n"
   ]
  },
  {
   "cell_type": "code",
   "execution_count": null,
   "metadata": {},
   "outputs": [],
   "source": []
  }
 ],
 "metadata": {
  "authors": [
   {
    "name": "anshirga"
   }
  ],
  "compute": [
   "AML Compute"
  ],
  "datasets": [
   "None"
  ],
  "deployment": [
   "None"
  ],
  "exclude_from_index": false,
  "framework": [
   "None"
  ],
  "friendly_name": "DNN Text Featurization",
  "index_order": 2,
  "kernel_info": {
   "name": "python3-azureml"
  },
  "kernelspec": {
   "display_name": "Python 3.8.13 ('nlp')",
   "language": "python",
   "name": "python3"
  },
  "language_info": {
   "codemirror_mode": {
    "name": "ipython",
    "version": 3
   },
   "file_extension": ".py",
   "mimetype": "text/x-python",
   "name": "python",
   "nbconvert_exporter": "python",
   "pygments_lexer": "ipython3",
   "version": "3.7.13"
  },
  "nteract": {
   "version": "nteract-front-end@1.0.0"
  },
  "tags": [
   "None"
  ],
  "task": "Text featurization using DNNs for classification",
  "vscode": {
   "interpreter": {
    "hash": "7ade285f687a1ecab6f569c64721a8142b161535723b6a0ecd56d473b77660bf"
   }
  }
 },
 "nbformat": 4,
 "nbformat_minor": 1
}
